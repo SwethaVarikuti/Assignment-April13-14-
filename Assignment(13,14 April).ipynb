{
 "cells": [
  {
   "cell_type": "markdown",
   "metadata": {},
   "source": [
    "# get the size of list and get the number of times input from user and put it in list.sum of all numbers in a list."
   ]
  },
  {
   "cell_type": "code",
   "execution_count": 12,
   "metadata": {},
   "outputs": [
    {
     "name": "stdout",
     "output_type": "stream",
     "text": [
      "10\n",
      "Enter number 1 input to your list:\n",
      "1\n",
      "Enter number 2 input to your list:\n",
      "2\n",
      "Enter number 3 input to your list:\n",
      "3\n",
      "Enter number 4 input to your list:\n",
      "4 \n",
      "Enter number 5 input to your list:\n",
      "5\n",
      "Enter number 6 input to your list:\n",
      "6\n",
      "Enter number 7 input to your list:\n",
      "7\n",
      "Enter number 8 input to your list:\n",
      "8\n",
      "Enter number 9 input to your list:\n",
      "9\n",
      "Enter number 10 input to your list:\n",
      "10\n",
      "55\n"
     ]
    }
   ],
   "source": [
    "N = int(input())\n",
    "myList = list()\n",
    "for i in range(N):\n",
    "    print('Enter number {} input to your list:'.format(i+1))\n",
    "    x = int(input())\n",
    "    myList.append(x)\n",
    "result = 0\n",
    "for item in myList:\n",
    "    result = result+item\n",
    "print(result)"
   ]
  },
  {
   "cell_type": "markdown",
   "metadata": {},
   "source": [
    "# get the size of list and get the number of times input from user and \n",
    "# put it in list.And find the numbers in list is even or odd."
   ]
  },
  {
   "cell_type": "code",
   "execution_count": 15,
   "metadata": {},
   "outputs": [
    {
     "name": "stdout",
     "output_type": "stream",
     "text": [
      "5\n",
      "Enter number 1 input to your list:\n",
      "1\n",
      "Enter number 2 input to your list:\n",
      "2\n",
      "Enter number 3 input to your list:\n",
      "3\n",
      "Enter number 4 input to your list:\n",
      "4\n",
      "Enter number 5 input to your list:\n",
      "5\n",
      "1 in the given list is odd\n",
      "2 in the given list is even\n",
      "3 in the given list is odd\n",
      "4 in the given list is even\n",
      "5 in the given list is odd\n",
      "0\n"
     ]
    }
   ],
   "source": [
    "N = int(input())\n",
    "myList = list()\n",
    "for i in range(N):\n",
    "    print('Enter number {} input to your list:'.format(i+1))\n",
    "    x = int(input())\n",
    "    myList.append(x)\n",
    "for item in myList:\n",
    "    if item%2==0:\n",
    "        print('{} in the given list is even'.format(item))\n",
    "    else:\n",
    "        print('{} in the given list is odd'.format(item))"
   ]
  },
  {
   "cell_type": "markdown",
   "metadata": {},
   "source": [
    "# get the input from user and find the factorial of given input."
   ]
  },
  {
   "cell_type": "code",
   "execution_count": 20,
   "metadata": {},
   "outputs": [
    {
     "name": "stdout",
     "output_type": "stream",
     "text": [
      "10\n",
      "Factorial of 10 is:3628800\n"
     ]
    }
   ],
   "source": [
    "N= int(input())\n",
    "result = 1\n",
    "for i in range(1,N+1):\n",
    "    result = result*i\n",
    "print('Factorial of {} is:{}'.format(N,result))"
   ]
  },
  {
   "cell_type": "markdown",
   "metadata": {},
   "source": [
    "# Simple calulator"
   ]
  },
  {
   "cell_type": "code",
   "execution_count": 51,
   "metadata": {},
   "outputs": [
    {
     "name": "stdout",
     "output_type": "stream",
     "text": [
      "1:Addition 2:Subtraction 3:Multiplication 4:Division\n",
      "Enter the number assigned to the option to select it\n",
      "Enter your option number:4\n",
      "Enter first number:6\n",
      "Enter second number:2\n",
      "Division is :3.0\n"
     ]
    }
   ],
   "source": [
    "print('1:Addition 2:Subtraction 3:Multiplication 4:Division')\n",
    "print('Enter the number assigned to the option to select it')\n",
    "N = int(input('Enter your option number:'))\n",
    "x = int(input('Enter first number:'))\n",
    "y = int(input('Enter second number:'))\n",
    "\n",
    "def calculator(opt,x,y):\n",
    "    switch = {1:add,\n",
    "              2:sub,\n",
    "              3:mul,\n",
    "              4:div\n",
    "             }\n",
    "    res = switch.get(opt,lambda:'invalid option')\n",
    "    return res()\n",
    "\n",
    "def add(a=x,b=y):\n",
    "    print('Addition is: {}'.format(a+b))\n",
    "def sub(a=x,b=y):\n",
    "    print('Subtraction is:{}'.format(a-b))\n",
    "def mul(a=x,b=y):\n",
    "    print('Multiplication is:{}'.format(a*b))\n",
    "def div(a=x,b=y):\n",
    "    print('Division is :{}'.format(a/b))\n",
    "calculator(N,x,y)"
   ]
  },
  {
   "cell_type": "markdown",
   "metadata": {},
   "source": [
    "# From the given input list, select the strings which have first letter in uppercase and last letter in lower case."
   ]
  },
  {
   "cell_type": "code",
   "execution_count": null,
   "metadata": {},
   "outputs": [],
   "source": []
  },
  {
   "cell_type": "code",
   "execution_count": null,
   "metadata": {},
   "outputs": [],
   "source": []
  },
  {
   "cell_type": "code",
   "execution_count": null,
   "metadata": {},
   "outputs": [],
   "source": []
  },
  {
   "cell_type": "code",
   "execution_count": null,
   "metadata": {},
   "outputs": [],
   "source": []
  },
  {
   "cell_type": "markdown",
   "metadata": {},
   "source": [
    "# Get the input list and reverse the values in list."
   ]
  },
  {
   "cell_type": "code",
   "execution_count": null,
   "metadata": {},
   "outputs": [],
   "source": []
  },
  {
   "cell_type": "code",
   "execution_count": null,
   "metadata": {},
   "outputs": [],
   "source": []
  },
  {
   "cell_type": "code",
   "execution_count": null,
   "metadata": {},
   "outputs": [],
   "source": []
  },
  {
   "cell_type": "markdown",
   "metadata": {},
   "source": [
    "# calculate the square of given values in list using Lambda function."
   ]
  },
  {
   "cell_type": "code",
   "execution_count": null,
   "metadata": {},
   "outputs": [],
   "source": []
  },
  {
   "cell_type": "code",
   "execution_count": null,
   "metadata": {},
   "outputs": [],
   "source": []
  },
  {
   "cell_type": "code",
   "execution_count": null,
   "metadata": {},
   "outputs": [],
   "source": []
  },
  {
   "cell_type": "markdown",
   "metadata": {},
   "source": [
    "# from two input list, compare and return the values which are not match using list comprehension."
   ]
  },
  {
   "cell_type": "code",
   "execution_count": null,
   "metadata": {},
   "outputs": [],
   "source": []
  },
  {
   "cell_type": "code",
   "execution_count": null,
   "metadata": {},
   "outputs": [],
   "source": []
  },
  {
   "cell_type": "code",
   "execution_count": null,
   "metadata": {},
   "outputs": [],
   "source": []
  },
  {
   "cell_type": "code",
   "execution_count": null,
   "metadata": {},
   "outputs": [],
   "source": []
  },
  {
   "cell_type": "code",
   "execution_count": null,
   "metadata": {},
   "outputs": [],
   "source": []
  },
  {
   "cell_type": "code",
   "execution_count": null,
   "metadata": {},
   "outputs": [],
   "source": []
  }
 ],
 "metadata": {
  "kernelspec": {
   "display_name": "Python 3",
   "language": "python",
   "name": "python3"
  },
  "language_info": {
   "codemirror_mode": {
    "name": "ipython",
    "version": 3
   },
   "file_extension": ".py",
   "mimetype": "text/x-python",
   "name": "python",
   "nbconvert_exporter": "python",
   "pygments_lexer": "ipython3",
   "version": "3.7.1"
  }
 },
 "nbformat": 4,
 "nbformat_minor": 2
}
